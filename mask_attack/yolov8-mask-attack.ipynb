{
 "cells": [
  {
   "cell_type": "markdown",
   "metadata": {
    "id": "xl2hhcxhY049"
   },
   "source": [
    "**环境搭建**"
   ]
  },
  {
   "cell_type": "code",
   "execution_count": null,
   "metadata": {
    "colab": {
     "base_uri": "https://localhost:8080/"
    },
    "execution": {
     "iopub.execute_input": "2025-03-31T03:52:59.212848Z",
     "iopub.status.busy": "2025-03-31T03:52:59.212435Z",
     "iopub.status.idle": "2025-03-31T03:53:01.080267Z",
     "shell.execute_reply": "2025-03-31T03:53:01.079605Z",
     "shell.execute_reply.started": "2025-03-31T03:52:59.212816Z"
    },
    "executionInfo": {
     "elapsed": 13780,
     "status": "ok",
     "timestamp": 1743056152867,
     "user": {
      "displayName": "Nie Zishan",
      "userId": "09844392879267024895"
     },
     "user_tz": -480
    },
    "id": "PnO_drNFZHyF",
    "outputId": "2473806b-5502-42ab-c8ee-65dc00f54d7d",
    "tags": []
   },
   "outputs": [],
   "source": [
    "!nvidia-smi\n",
    "import torch\n",
    "import os\n",
    "from ultralytics.models.yolo.detect.train import DetectionTrainer\n",
    "from ultralytics import YOLO\n",
    "# os.chdir(path='E://bmx/YoloCAM')"
   ]
  },
  {
   "cell_type": "markdown",
   "metadata": {
    "id": "Zy379oTDZ8Qg"
   },
   "source": [
    "**数据集准备**\n",
    "\n",
    "关于数据集格式的说明：标签以 YOLO 格式导出，保存为 \\*.txt 文件。\n",
    "\n",
    "如果图像中没有目标对象，则不需要创建 \\*.txt 文件。 \\*.txt 文件的格式为每个目标对象一行，格式为 `[类别, x_center, y_center, 宽度, 高度]`。边界框的坐标是归一化的 `[x, y, w, h]` 格式（范围从 0 到 1）。\n",
    "\n",
    "后面的代码是以像素为单位测量的，将 `x_center` 和 `宽度` 除以图像的宽度，将 `y_center` 和 `高度` 除以图像的高度。类别编号为从 0 开始的索引（即从 0 开始计数）。"
   ]
  },
  {
   "cell_type": "code",
   "execution_count": null,
   "metadata": {
    "colab": {
     "base_uri": "https://localhost:8080/"
    },
    "execution": {
     "iopub.execute_input": "2025-03-31T03:53:01.324708Z",
     "iopub.status.busy": "2025-03-31T03:53:01.324491Z",
     "iopub.status.idle": "2025-03-31T03:53:02.641534Z",
     "shell.execute_reply": "2025-03-31T03:53:02.641046Z",
     "shell.execute_reply.started": "2025-03-31T03:53:01.324683Z"
    },
    "executionInfo": {
     "elapsed": 22569,
     "status": "ok",
     "timestamp": 1743003885515,
     "user": {
      "displayName": "Nie Zishan",
      "userId": "09844392879267024895"
     },
     "user_tz": -480
    },
    "id": "w7mBK6BNtTNw",
    "outputId": "b8d91e12-0727-4521-ca28-665b7000b084",
    "tags": []
   },
   "outputs": [],
   "source": [
    "device = torch.device(\"cuda\" if torch.cuda.is_available() else \"cpu\")\n",
    "args = dict(model=\"../models/yolov8-gtsrb.pt\", data=\"./data.yaml\")\n",
    "trainer = DetectionTrainer(overrides=args)\n",
    "trainer.setup_model()\n",
    "trainer.set_model_attributes()\n",
    "trainer.model.to(device=device)\n",
    "trainer.model.eval()\n",
    "detector = YOLO(model=\"../models/yolov8-gtsrb.pt\")\n",
    "detector.to(device=device, dtype=torch.float32).eval()"
   ]
  },
  {
   "cell_type": "code",
   "execution_count": null,
   "metadata": {
    "colab": {
     "base_uri": "https://localhost:8080/"
    },
    "execution": {
     "iopub.execute_input": "2025-03-31T03:53:02.667384Z",
     "iopub.status.busy": "2025-03-31T03:53:02.667168Z",
     "iopub.status.idle": "2025-03-31T03:53:03.003019Z",
     "shell.execute_reply": "2025-03-31T03:53:03.002458Z",
     "shell.execute_reply.started": "2025-03-31T03:53:02.667357Z"
    },
    "executionInfo": {
     "elapsed": 323,
     "status": "ok",
     "timestamp": 1743003991841,
     "user": {
      "displayName": "Nie Zishan",
      "userId": "09844392879267024895"
     },
     "user_tz": -480
    },
    "id": "EHhQIz1YxWVa",
    "outputId": "12a94601-7ea7-4e6e-dd10-54432d580b82",
    "tags": []
   },
   "outputs": [],
   "source": [
    "from utils.dataset import CustomDataset\n",
    "\n",
    "images_dir_path = \"../datasets/gtsrb_origin/0/images\"\n",
    "labels_dir_path = \"../datasets/gtsrb_origin/0/labels\"\n",
    "# Initialize dataset\n",
    "\n",
    "\n",
    "train_dataset = CustomDataset(images_dir_path = images_dir_path, \n",
    "                              labels_dir_path = labels_dir_path,\n",
    "                              image_width=640,\n",
    "                              image_height=640)\n",
    "\n",
    "sample_data = train_dataset[0]\n",
    "\n",
    "import matplotlib.pyplot as plt\n",
    "\n",
    "plt.subplot(131)\n",
    "plt.imshow(sample_data[\"mask\"][0, :, :], cmap='gray')\n",
    "# img.size()\n",
    "plt.subplot(132)\n",
    "masked_img = sample_data[\"image\"]\n",
    "plt.imshow(masked_img.permute(1, 2, 0))\n",
    "plt.subplot(133)\n",
    "masked_img = sample_data[\"image\"] * sample_data[\"mask\"]\n",
    "plt.imshow(masked_img.permute(1, 2, 0))\n",
    "plt.show()"
   ]
  },
  {
   "cell_type": "markdown",
   "metadata": {},
   "source": [
    "**批量攻击**"
   ]
  },
  {
   "cell_type": "code",
   "execution_count": null,
   "metadata": {},
   "outputs": [],
   "source": [
    "import os\n",
    "from gtsrb.main import classes_batch_attack_gtsrb\n",
    "test_classes_root = '../../gtsrb_classes_attacked_test/origin'\n",
    "output_root = \"../attack_result\"\n",
    "os.makedirs(output_root, exist_ok=True)\n",
    "classes_batch_attack_gtsrb(trainer, test_classes_root, output_root, \"masked_pgd\", 0.005, 0.00005, 150)"
   ]
  },
  {
   "cell_type": "markdown",
   "metadata": {},
   "source": [
    "**攻击结果可视化**"
   ]
  },
  {
   "cell_type": "code",
   "execution_count": null,
   "metadata": {
    "execution": {
     "iopub.execute_input": "2025-03-31T04:01:10.448426Z",
     "iopub.status.busy": "2025-03-31T04:01:10.447944Z",
     "iopub.status.idle": "2025-03-31T04:01:10.524483Z",
     "shell.execute_reply": "2025-03-31T04:01:10.523896Z",
     "shell.execute_reply.started": "2025-03-31T04:01:10.448398Z"
    },
    "tags": []
   },
   "outputs": [],
   "source": [
    "from utils.dataset import CustomDataset\n",
    "from utils.plot import visualize_attack_result\n",
    "\n",
    "origin_dataset = CustomDataset(images_dir_path = \"../datasets/gtsrb_origin/0/images\", \n",
    "                              labels_dir_path = \"../datasets/gtsrb_origin/0/labels\",\n",
    "                              image_width=640,\n",
    "                              image_height=640)\n",
    "attacked_dataset = CustomDataset(images_dir_path = \"../datasets/gtsrb_attack/0/images\",\n",
    "                              labels_dir_path = \"../datasets/gtsrb_attack/0/labels\",\n",
    "                              image_width=640,\n",
    "                              image_height=640)\n",
    "visualize_attack_result(detector, origin_dataset, attacked_dataset)"
   ]
  },
  {
   "cell_type": "markdown",
   "metadata": {
    "id": "AzPYW0Tnwq9o"
   },
   "source": [
    "**攻击效果评估**"
   ]
  },
  {
   "cell_type": "code",
   "execution_count": null,
   "metadata": {},
   "outputs": [],
   "source": [
    "from gtsrb.main import ValGTSRB\n",
    "val_gtsrb = ValGTSRB(detector, attack_result_root = \"../../gtsrb_no_classes_attacked_test\", origin_yaml_path='./gtsrb.yaml')\n",
    "val_gtsrb.show_method()"
   ]
  },
  {
   "cell_type": "code",
   "execution_count": null,
   "metadata": {},
   "outputs": [],
   "source": [
    "val_metrics = val_gtsrb.single_param_val(method='origin')"
   ]
  },
  {
   "cell_type": "code",
   "execution_count": null,
   "metadata": {},
   "outputs": [],
   "source": [
    "val_metrics = val_gtsrb.single_param_val(method='fgsm', epsilon=0.03)"
   ]
  },
  {
   "cell_type": "code",
   "execution_count": null,
   "metadata": {},
   "outputs": [],
   "source": [
    "val_metrics = val_gtsrb.single_param_val(method='masked_fgsm', epsilon=0.03)"
   ]
  },
  {
   "cell_type": "code",
   "execution_count": null,
   "metadata": {},
   "outputs": [],
   "source": [
    "val_metrics = val_gtsrb.single_param_val(method='masked_fgsm', epsilon=0.05)"
   ]
  },
  {
   "cell_type": "code",
   "execution_count": null,
   "metadata": {},
   "outputs": [],
   "source": [
    "val_metrics = val_gtsrb.single_param_val(method='masked_pgd', epsilon=0.05, alpha=0.0005, num_iter=100)"
   ]
  },
  {
   "cell_type": "code",
   "execution_count": null,
   "metadata": {},
   "outputs": [],
   "source": [
    "val_metrics = val_gtsrb.single_param_val(method='masked_pgd', epsilon=0.03, alpha=0.0003, num_iter=100)"
   ]
  },
  {
   "cell_type": "code",
   "execution_count": null,
   "metadata": {},
   "outputs": [],
   "source": [
    "val_metrics = val_gtsrb.single_param_val(method='masked_pgd', epsilon=0.02, alpha=0.0002, num_iter=100)"
   ]
  },
  {
   "cell_type": "code",
   "execution_count": null,
   "metadata": {},
   "outputs": [],
   "source": [
    "val_metrics = val_gtsrb.single_param_val(method='masked_pgd', epsilon=0.02, alpha=0.0002, num_iter=150)"
   ]
  },
  {
   "cell_type": "code",
   "execution_count": null,
   "metadata": {},
   "outputs": [],
   "source": [
    "val_metrics = val_gtsrb.single_param_val(method='masked_pgd', epsilon=0.01, alpha=0.0001, num_iter=100)"
   ]
  },
  {
   "cell_type": "code",
   "execution_count": null,
   "metadata": {},
   "outputs": [],
   "source": [
    "val_metrics = val_gtsrb.single_param_val(method='masked_pgd', epsilon=0.005, alpha=0.0001, num_iter=100)"
   ]
  },
  {
   "cell_type": "code",
   "execution_count": null,
   "metadata": {},
   "outputs": [],
   "source": [
    "val_metrics = val_gtsrb.single_param_val(method='masked_pgd', epsilon=0.005, alpha=0.0001, num_iter=150)"
   ]
  }
 ],
 "metadata": {
  "accelerator": "GPU",
  "colab": {
   "gpuType": "T4",
   "machine_shape": "hm",
   "provenance": []
  },
  "kernelspec": {
   "display_name": "ultralytics",
   "language": "python",
   "name": "python3"
  },
  "language_info": {
   "codemirror_mode": {
    "name": "ipython",
    "version": 3
   },
   "file_extension": ".py",
   "mimetype": "text/x-python",
   "name": "python",
   "nbconvert_exporter": "python",
   "pygments_lexer": "ipython3",
   "version": "3.11.11"
  }
 },
 "nbformat": 4,
 "nbformat_minor": 4
}
