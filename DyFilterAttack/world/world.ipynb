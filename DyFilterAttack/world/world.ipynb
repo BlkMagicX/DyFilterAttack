{
 "cells": [
  {
   "cell_type": "code",
   "execution_count": null,
   "id": "490664e0",
   "metadata": {},
   "outputs": [],
   "source": [
    "from ultralytics import YOLOWorld\n",
    "import cv2\n",
    "import numpy as np\n",
    "import matplotlib.pyplot as plt\n",
    "import torch\n",
    "\n",
    "import warnings\n",
    "\n",
    "warnings.filterwarnings(action=\"ignore\")\n",
    "warnings.simplefilter(action=\"ignore\")"
   ]
  },
  {
   "cell_type": "code",
   "execution_count": null,
   "id": "b4a3ded7",
   "metadata": {},
   "outputs": [],
   "source": [
    "# choose dataset O365 GlodG\n",
    "\n",
    "from attacker import WorldAttacker\n",
    "\n",
    "model_path = \"./DyFilterAttack/models/yolov8s-world.pt\"\n",
    "image_path = \"./DyFilterAttack/testset/bus.jpg\"\n",
    "attacker = WorldAttacker(\n",
    "    model_path=model_path,\n",
    "    attack_layer_name=\"model.model.22.cv2\",\n",
    "    meta_json=\"./DyFilterAttack/testset/lvis_data/attack_meta.json\",\n",
    "    images_dir_path=\"./DyFilterAttack/testset/lvis_data/val2017\",\n",
    ")"
   ]
  },
  {
   "cell_type": "code",
   "execution_count": null,
   "id": "602334a6",
   "metadata": {},
   "outputs": [],
   "source": [
    "attacker.batch_attack(experiment_name=\"baseline\", output_dir=\"./DyFilterAttack/result/world/baseline\", batch_size=1)"
   ]
  }
 ],
 "metadata": {
  "kernelspec": {
   "display_name": "ultralytics",
   "language": "python",
   "name": "python3"
  },
  "language_info": {
   "codemirror_mode": {
    "name": "ipython",
    "version": 3
   },
   "file_extension": ".py",
   "mimetype": "text/x-python",
   "name": "python",
   "nbconvert_exporter": "python",
   "pygments_lexer": "ipython3",
   "version": "3.11.11"
  }
 },
 "nbformat": 4,
 "nbformat_minor": 5
}
