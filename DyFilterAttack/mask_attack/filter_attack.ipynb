{
 "cells": [
  {
   "cell_type": "code",
   "execution_count": null,
   "id": "65d19f8b",
   "metadata": {},
   "outputs": [],
   "source": [
    "!nvidia-smi\n",
    "import torch\n",
    "import os\n",
    "from ultralytics.models.yolo.detect.train import DetectionTrainer\n",
    "from ultralytics import YOLO\n",
    "from DyFilterAttack.mask_attack.utils.CustomDataset import CustomDataset\n",
    "# os.chdir(path='E://bmx/DyFilterAttack')\n",
    "device = torch.device(\"cuda\" if torch.cuda.is_available() else \"cpu\")\n",
    "args = dict(model=\"../models/yolov8-gtsrb.pt\", data=\"./data.yaml\")\n",
    "trainer = DetectionTrainer(overrides=args)\n",
    "trainer.setup_model()\n",
    "trainer.set_model_attributes()\n",
    "trainer.model.to(device=device)\n",
    "trainer.model.train()\n",
    "detector = YOLO(model=\"../models/yolov8-gtsrb.pt\")\n",
    "detector.to(device=device, dtype=torch.float32).eval()"
   ]
  },
  {
   "cell_type": "code",
   "execution_count": null,
   "id": "9c21ef29",
   "metadata": {},
   "outputs": [],
   "source": [
    "from analyzer.utils import analysis_all_layer_cross_classes\n",
    "# key_filters = analysis_all_layer_cross_classes(trainer)\n",
    "key_filters = {\n",
    "    'backbone_c2f1.cv1': [10, 13, 16],\n",
    "    'backbone_c2f1.cv2': [27],\n",
    "    'backbone_c2f1.m.0.cv1': [],\n",
    "    'backbone_c2f1.m.0.cv2': [],\n",
    "    'backbone_c2f2.cv1': [7, 18, 21],\n",
    "    'backbone_c2f2.cv2': [21, 38, 45],\n",
    "    'backbone_c2f2.m.0.cv1': [6, 9, 12, 28, 29, 31],\n",
    "    'backbone_c2f2.m.0.cv2': [6, 7, 24],\n",
    "    'backbone_c2f2.m.1.cv1': [7],\n",
    "    'backbone_c2f2.m.1.cv2': [],\n",
    "    'backbone_c2f3.cv1': [12, 20, 21, 22, 39, 58, 61],\n",
    "    'backbone_c2f3.cv2': [0, 41, 96],\n",
    "    'backbone_c2f3.m.0.cv1': [28],\n",
    "    'backbone_c2f3.m.0.cv2.conv': [51],\n",
    "    'backbone_c2f3.m.1.cv1': [],\n",
    "    'backbone_c2f3.m.1.cv2': [],\n",
    "    'backbone_c2f4.cv1': [48],\n",
    "    'backbone_c2f4.cv2': [91, 122],\n",
    "    'backbone_c2f4.m.0.cv1': [73, 84],\n",
    "    'backbone_c2f4.m.0.cv2': [120],\n",
    "    'neck_c2f1.cv1': [25],\n",
    "    'neck_c2f1.cv2': [],\n",
    "    'neck_c2f1.m.0.cv1': [40, 59],\n",
    "    'neck_c2f1.m.0.cv2': [],\n",
    "    'neck_c2f2.cv1': [1, 52],\n",
    "    'neck_c2f2.cv2': [],\n",
    "    'neck_c2f2.m.0.cv1': [24],\n",
    "    'neck_c2f2.m.0.cv2': [],\n",
    "    'neck_c2f3.cv1': [7, 114],\n",
    "    'neck_c2f3.cv2': [44],\n",
    "    'neck_c2f3.m.0.cv1': [],\n",
    "    'neck_c2f3.m.0.cv2': [47, 59],\n",
    "    'neck_c2f4.cv1': [],\n",
    "    'neck_c2f4.cv2': [228],\n",
    "    'neck_c2f4.m.0.cv1': [],\n",
    "    'neck_c2f4.m.0.cv2': [10, 126]\n",
    "}"
   ]
  },
  {
   "cell_type": "code",
   "execution_count": null,
   "id": "99b08f94",
   "metadata": {},
   "outputs": [],
   "source": [
    "from mask_attack.utils.attacker import Attacker\n",
    "from DyFilterAttack.mask_attack.utils.datasets.gtsrb import classes_batch_attack_gtsrb\n",
    "origin_dataset = CustomDataset(images_dir_path = \"../../gtsrb_classes_attacked_test/origin/0/images\", \n",
    "                              labels_dir_path = \"../../gtsrb_classes_attacked_test/origin/0/labels\",\n",
    "                              image_width=640,\n",
    "                              image_height=640)\n",
    "attacker = Attacker(trainer=trainer, dataset=origin_dataset, batch_size=16)\n",
    "classes_batch_attack_gtsrb(trainer, classes_name=['0'], batch_size=12,\n",
    "                           test_classes_root='../../gtsrb_classes_attacked_test/origin/', output_root='./result',\n",
    "                           method='filter_attack', epsilon=0.05, lr=0.001, num_iter=200, \n",
    "                           lambda1=0.5, lambda2=1.5, lambda3=1.0, \n",
    "                           key_filters=key_filters)"
   ]
  },
  {
   "cell_type": "markdown",
   "id": "a0373613",
   "metadata": {},
   "source": [
    "0.1 1.0 1.5 这个趋势是对的\n",
    "loss2 涨几个epoch就不变了，但是此时loss1都还没约束好\n",
    "loss2 需要优化，比如尺度问题，最好三个loss的尺度差不多，这在提取激活值的时候可以修改\n",
    "做不到同时约束\n",
    "\n",
    "激活值是个全局的量，如何优化成掩码"
   ]
  },
  {
   "cell_type": "code",
   "execution_count": null,
   "id": "350a140c",
   "metadata": {},
   "outputs": [],
   "source": [
    "from analyzer.utils import analysis_all_layer\n",
    "analysis_all_layer(detector, '../../gtsrb_classes_attacked_test/origin/0/images', './result/filter_attack_0-0500_0-0010_200_0.5_1.5_0/0/images', show=True)"
   ]
  },
  {
   "cell_type": "code",
   "execution_count": null,
   "id": "e78638ca",
   "metadata": {},
   "outputs": [],
   "source": []
  }
 ],
 "metadata": {
  "kernelspec": {
   "display_name": "ultralytics",
   "language": "python",
   "name": "python3"
  },
  "language_info": {
   "codemirror_mode": {
    "name": "ipython",
    "version": 3
   },
   "file_extension": ".py",
   "mimetype": "text/x-python",
   "name": "python",
   "nbconvert_exporter": "python",
   "pygments_lexer": "ipython3",
   "version": "3.11.11"
  }
 },
 "nbformat": 4,
 "nbformat_minor": 5
}
